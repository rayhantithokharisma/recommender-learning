{
 "cells": [
  {
   "cell_type": "markdown",
   "id": "3cc8ce33-7848-4dc2-96c4-8450bdde38fb",
   "metadata": {
    "tags": []
   },
   "source": [
    "#### The data I got is from kaggle: mkechinov/ecommerce-events-history-in-electronics-store.\n",
    "\n",
    "#### This experiment will be based on this data.\n",
    "\n",
    "#### People who read this document are supposed to be DS with high level understanding of recommendation system, pandas, and usual DS workflow."
   ]
  },
  {
   "cell_type": "markdown",
   "id": "1b367ec6-21af-49f2-aa04-1ef6b602c181",
   "metadata": {},
   "source": [
    "# ML Approach"
   ]
  },
  {
   "cell_type": "markdown",
   "id": "d2b2d78a-d2c2-4ce9-9156-1f2e37964e0d",
   "metadata": {},
   "source": [
    "This data consist of 3 event, view, cart, and purchase.\n",
    "\n",
    "Due to the nature of recommendation system that has a lot of business context, we don't think its wise to assume all users are equal\n",
    "\n",
    "\n",
    "In this approach, what I did is to classify the user's first.\n",
    "\n",
    "The user's are classified based on how much they view items, how much they purchase items, and how much number of unique items they bought.\n",
    "\n",
    "People that fall high on those 3 categories, we assume that the user is possibly loyal to the app, and use app often enough, so we recommend item that are undersell. The term of undersell means, it has high purchase number and high number of unique users who purchase them, but falls low on number of views.\n",
    "\n",
    "on the other hand, people who fall low on those 3 categories, which are like 98% of users in this data fall on this category, are recommended the popular items.\n",
    "\n",
    "Else, the implicit recommender model using ALS will handle them.\n",
    "\n",
    "These all approach are already stated clear enough on the EDA. The EDA notebook is in reco-eda/reco-da.ipynb"
   ]
  },
  {
   "cell_type": "markdown",
   "id": "365a4083-2000-4d82-a31c-c4f250a1bbb1",
   "metadata": {},
   "source": [
    "# Deployment Approach"
   ]
  },
  {
   "cell_type": "markdown",
   "id": "5bb6299d-8590-4495-acac-bb6eb2dbdf99",
   "metadata": {},
   "source": [
    "Due to the nature of recommendation model that are highly on demand, it's wise to build it as a service based. I use Flask to build restful api, and as for the web UI, due to we need to supply URL (which I assume it needs to be accesible by public), to avoid complexities, we use Gradio. The service code is in reco-services/reco-service.py.\n",
    "\n",
    "The web code and deployment is inside reco-web-ui/reco-deploy.ipynb"
   ]
  },
  {
   "cell_type": "markdown",
   "id": "ebaee150-383f-4c31-99ea-e116411dc8eb",
   "metadata": {},
   "source": [
    "# Usage Guide"
   ]
  },
  {
   "cell_type": "markdown",
   "id": "e64e3e5e-1bc7-42fe-a3f2-3d4d6eb1d1ba",
   "metadata": {},
   "source": [
    "- go to https://3c6c666805d8c27d6e.gradio.live/\n",
    "- put any integer, it will output cold start recommendation items\n",
    "- or if you want to try existing user: try this user: \n",
    "1515915625355805313, 1515915625379210214, 1515915625385482819, 1515915625425059411"
   ]
  },
  {
   "cell_type": "code",
   "execution_count": null,
   "id": "5a592d80-d3a6-4a64-9b0e-90bd5ffd682d",
   "metadata": {},
   "outputs": [],
   "source": []
  }
 ],
 "metadata": {
  "environment": {
   "kernel": "songsure_v1",
   "name": "tf2-gpu.2-11.m111",
   "type": "gcloud",
   "uri": "gcr.io/deeplearning-platform-release/tf2-gpu.2-11:m111"
  },
  "kernelspec": {
   "display_name": "Python (Songsure_v1)",
   "language": "python",
   "name": "songsure_v1"
  },
  "language_info": {
   "codemirror_mode": {
    "name": "ipython",
    "version": 3
   },
   "file_extension": ".py",
   "mimetype": "text/x-python",
   "name": "python",
   "nbconvert_exporter": "python",
   "pygments_lexer": "ipython3",
   "version": "3.10.12"
  }
 },
 "nbformat": 4,
 "nbformat_minor": 5
}
