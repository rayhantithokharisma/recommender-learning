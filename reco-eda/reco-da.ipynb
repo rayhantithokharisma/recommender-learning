{
 "cells": [
  {
   "cell_type": "code",
   "execution_count": 220,
   "id": "1a65c048-8520-4052-983e-2d852bf33c42",
   "metadata": {},
   "outputs": [
    {
     "name": "stdout",
     "output_type": "stream",
     "text": [
      "The jupyter_black extension is already loaded. To reload it, use:\n",
      "  %reload_ext jupyter_black\n"
     ]
    }
   ],
   "source": [
    "import pandas as pd\n",
    "import os\n",
    "import sys\n",
    "from tqdm import tqdm\n",
    "import numpy as np\n",
    "from datetime import datetime\n",
    "import pytz\n",
    "import implicit\n",
    "\n",
    "# from sklearn.model_selection import train_test_split\n",
    "from implicit.evaluation import train_test_split as implicit_train_test_split\n",
    "from implicit.evaluation import precision_at_k\n",
    "from scipy.sparse import csr_matrix\n",
    "\n",
    "from implicit import recommender_base\n",
    "\n",
    "%load_ext jupyter_black"
   ]
  },
  {
   "cell_type": "code",
   "execution_count": 227,
   "id": "1aeb795a-2a34-4176-b442-7a58056f8328",
   "metadata": {},
   "outputs": [],
   "source": []
  },
  {
   "cell_type": "code",
   "execution_count": 2,
   "id": "ac350b7c-d96c-47b4-80cd-730b148cbf32",
   "metadata": {},
   "outputs": [],
   "source": [
    "df = pd.read_csv(\"events.csv\")"
   ]
  },
  {
   "cell_type": "code",
   "execution_count": 3,
   "id": "4d2e75eb-89c8-4266-af80-4d71b8e9b78e",
   "metadata": {},
   "outputs": [],
   "source": [
    "# Check Preview Data"
   ]
  },
  {
   "cell_type": "code",
   "execution_count": 4,
   "id": "739fba18-a6ea-4f27-af84-2147a2875aca",
   "metadata": {},
   "outputs": [
    {
     "data": {
      "text/html": [
       "<div>\n",
       "<style scoped>\n",
       "    .dataframe tbody tr th:only-of-type {\n",
       "        vertical-align: middle;\n",
       "    }\n",
       "\n",
       "    .dataframe tbody tr th {\n",
       "        vertical-align: top;\n",
       "    }\n",
       "\n",
       "    .dataframe thead th {\n",
       "        text-align: right;\n",
       "    }\n",
       "</style>\n",
       "<table border=\"1\" class=\"dataframe\">\n",
       "  <thead>\n",
       "    <tr style=\"text-align: right;\">\n",
       "      <th></th>\n",
       "      <th>0</th>\n",
       "      <th>1</th>\n",
       "      <th>2</th>\n",
       "      <th>3</th>\n",
       "      <th>4</th>\n",
       "    </tr>\n",
       "  </thead>\n",
       "  <tbody>\n",
       "    <tr>\n",
       "      <th>event_time</th>\n",
       "      <td>2020-09-24 11:57:06 UTC</td>\n",
       "      <td>2020-09-24 11:57:26 UTC</td>\n",
       "      <td>2020-09-24 11:57:27 UTC</td>\n",
       "      <td>2020-09-24 11:57:33 UTC</td>\n",
       "      <td>2020-09-24 11:57:36 UTC</td>\n",
       "    </tr>\n",
       "    <tr>\n",
       "      <th>event_type</th>\n",
       "      <td>view</td>\n",
       "      <td>view</td>\n",
       "      <td>view</td>\n",
       "      <td>view</td>\n",
       "      <td>view</td>\n",
       "    </tr>\n",
       "    <tr>\n",
       "      <th>product_id</th>\n",
       "      <td>1996170</td>\n",
       "      <td>139905</td>\n",
       "      <td>215454</td>\n",
       "      <td>635807</td>\n",
       "      <td>3658723</td>\n",
       "    </tr>\n",
       "    <tr>\n",
       "      <th>category_id</th>\n",
       "      <td>2144415922528452715</td>\n",
       "      <td>2144415926932472027</td>\n",
       "      <td>2144415927158964449</td>\n",
       "      <td>2144415923107266682</td>\n",
       "      <td>2144415921169498184</td>\n",
       "    </tr>\n",
       "    <tr>\n",
       "      <th>category_code</th>\n",
       "      <td>electronics.telephone</td>\n",
       "      <td>computers.components.cooler</td>\n",
       "      <td>NaN</td>\n",
       "      <td>computers.peripherals.printer</td>\n",
       "      <td>NaN</td>\n",
       "    </tr>\n",
       "    <tr>\n",
       "      <th>brand</th>\n",
       "      <td>NaN</td>\n",
       "      <td>zalman</td>\n",
       "      <td>NaN</td>\n",
       "      <td>pantum</td>\n",
       "      <td>cameronsino</td>\n",
       "    </tr>\n",
       "    <tr>\n",
       "      <th>price</th>\n",
       "      <td>31.9</td>\n",
       "      <td>17.16</td>\n",
       "      <td>9.81</td>\n",
       "      <td>113.81</td>\n",
       "      <td>15.87</td>\n",
       "    </tr>\n",
       "    <tr>\n",
       "      <th>user_id</th>\n",
       "      <td>1515915625519388267</td>\n",
       "      <td>1515915625519380411</td>\n",
       "      <td>1515915625513238515</td>\n",
       "      <td>1515915625519014356</td>\n",
       "      <td>1515915625510743344</td>\n",
       "    </tr>\n",
       "    <tr>\n",
       "      <th>user_session</th>\n",
       "      <td>LJuJVLEjPT</td>\n",
       "      <td>tdicluNnRY</td>\n",
       "      <td>4TMArHtXQy</td>\n",
       "      <td>aGFYrNgC08</td>\n",
       "      <td>aa4mmk0kwQ</td>\n",
       "    </tr>\n",
       "  </tbody>\n",
       "</table>\n",
       "</div>"
      ],
      "text/plain": [
       "                                     0                            1  \\\n",
       "event_time     2020-09-24 11:57:06 UTC      2020-09-24 11:57:26 UTC   \n",
       "event_type                        view                         view   \n",
       "product_id                     1996170                       139905   \n",
       "category_id        2144415922528452715          2144415926932472027   \n",
       "category_code    electronics.telephone  computers.components.cooler   \n",
       "brand                              NaN                       zalman   \n",
       "price                             31.9                        17.16   \n",
       "user_id            1515915625519388267          1515915625519380411   \n",
       "user_session                LJuJVLEjPT                   tdicluNnRY   \n",
       "\n",
       "                                     2                              3  \\\n",
       "event_time     2020-09-24 11:57:27 UTC        2020-09-24 11:57:33 UTC   \n",
       "event_type                        view                           view   \n",
       "product_id                      215454                         635807   \n",
       "category_id        2144415927158964449            2144415923107266682   \n",
       "category_code                      NaN  computers.peripherals.printer   \n",
       "brand                              NaN                         pantum   \n",
       "price                             9.81                         113.81   \n",
       "user_id            1515915625513238515            1515915625519014356   \n",
       "user_session                4TMArHtXQy                     aGFYrNgC08   \n",
       "\n",
       "                                     4  \n",
       "event_time     2020-09-24 11:57:36 UTC  \n",
       "event_type                        view  \n",
       "product_id                     3658723  \n",
       "category_id        2144415921169498184  \n",
       "category_code                      NaN  \n",
       "brand                      cameronsino  \n",
       "price                            15.87  \n",
       "user_id            1515915625510743344  \n",
       "user_session                aa4mmk0kwQ  "
      ]
     },
     "execution_count": 4,
     "metadata": {},
     "output_type": "execute_result"
    }
   ],
   "source": [
    "df.head().T"
   ]
  },
  {
   "cell_type": "code",
   "execution_count": 5,
   "id": "c4275188-df93-4854-97a0-325f47881bba",
   "metadata": {},
   "outputs": [],
   "source": [
    "# Check NaN"
   ]
  },
  {
   "cell_type": "code",
   "execution_count": 6,
   "id": "249220eb-bf85-404d-bd2a-ba90d60df9ee",
   "metadata": {},
   "outputs": [
    {
     "data": {
      "text/plain": [
       "event_time       0.000000\n",
       "event_type       0.000000\n",
       "product_id       0.000000\n",
       "category_id      0.000000\n",
       "category_code    0.266875\n",
       "brand            0.239924\n",
       "price            0.000000\n",
       "user_id          0.000000\n",
       "user_session     0.000186\n",
       "dtype: float64"
      ]
     },
     "execution_count": 6,
     "metadata": {},
     "output_type": "execute_result"
    }
   ],
   "source": [
    "df.isna().sum() / df.shape[0]"
   ]
  },
  {
   "cell_type": "code",
   "execution_count": 7,
   "id": "b729f6bb-8d34-4875-a820-be4de8c654f1",
   "metadata": {},
   "outputs": [],
   "source": [
    "# Check Unique Cat Id and Cat Code"
   ]
  },
  {
   "cell_type": "code",
   "execution_count": 8,
   "id": "f8e1ec48-26bb-4bb9-95df-ab743f6e1121",
   "metadata": {},
   "outputs": [
    {
     "data": {
      "text/plain": [
       "(718,)"
      ]
     },
     "execution_count": 8,
     "metadata": {},
     "output_type": "execute_result"
    }
   ],
   "source": [
    "df.category_id.unique().shape"
   ]
  },
  {
   "cell_type": "code",
   "execution_count": 9,
   "id": "df909318-7fab-48b4-b8ae-5945c76501ab",
   "metadata": {},
   "outputs": [
    {
     "data": {
      "text/plain": [
       "(108,)"
      ]
     },
     "execution_count": 9,
     "metadata": {},
     "output_type": "execute_result"
    }
   ],
   "source": [
    "df.category_code.unique().shape  # only 1/7 have code"
   ]
  },
  {
   "cell_type": "code",
   "execution_count": 10,
   "id": "baa947f8-ec2d-440e-8cb2-cd4d945dcdfc",
   "metadata": {},
   "outputs": [
    {
     "data": {
      "text/plain": [
       "(53453,)"
      ]
     },
     "execution_count": 10,
     "metadata": {},
     "output_type": "execute_result"
    }
   ],
   "source": [
    "df.product_id.unique().shape"
   ]
  },
  {
   "cell_type": "code",
   "execution_count": 11,
   "id": "5a2775db-e995-4a88-ae85-53bf5143cc0a",
   "metadata": {},
   "outputs": [],
   "source": [
    "# Check unique user ID"
   ]
  },
  {
   "cell_type": "code",
   "execution_count": 12,
   "id": "933342b8-6574-4c9d-8cf2-3c6692e3899e",
   "metadata": {},
   "outputs": [
    {
     "data": {
      "text/html": [
       "<div>\n",
       "<style scoped>\n",
       "    .dataframe tbody tr th:only-of-type {\n",
       "        vertical-align: middle;\n",
       "    }\n",
       "\n",
       "    .dataframe tbody tr th {\n",
       "        vertical-align: top;\n",
       "    }\n",
       "\n",
       "    .dataframe thead th {\n",
       "        text-align: right;\n",
       "    }\n",
       "</style>\n",
       "<table border=\"1\" class=\"dataframe\">\n",
       "  <thead>\n",
       "    <tr style=\"text-align: right;\">\n",
       "      <th></th>\n",
       "      <th>event_time</th>\n",
       "      <th>event_type</th>\n",
       "      <th>product_id</th>\n",
       "      <th>category_id</th>\n",
       "      <th>category_code</th>\n",
       "      <th>brand</th>\n",
       "      <th>price</th>\n",
       "      <th>user_id</th>\n",
       "      <th>user_session</th>\n",
       "    </tr>\n",
       "  </thead>\n",
       "  <tbody>\n",
       "    <tr>\n",
       "      <th>0</th>\n",
       "      <td>2020-09-24 11:57:06 UTC</td>\n",
       "      <td>view</td>\n",
       "      <td>1996170</td>\n",
       "      <td>2144415922528452715</td>\n",
       "      <td>electronics.telephone</td>\n",
       "      <td>NaN</td>\n",
       "      <td>31.90</td>\n",
       "      <td>1515915625519388267</td>\n",
       "      <td>LJuJVLEjPT</td>\n",
       "    </tr>\n",
       "    <tr>\n",
       "      <th>1</th>\n",
       "      <td>2020-09-24 11:57:26 UTC</td>\n",
       "      <td>view</td>\n",
       "      <td>139905</td>\n",
       "      <td>2144415926932472027</td>\n",
       "      <td>computers.components.cooler</td>\n",
       "      <td>zalman</td>\n",
       "      <td>17.16</td>\n",
       "      <td>1515915625519380411</td>\n",
       "      <td>tdicluNnRY</td>\n",
       "    </tr>\n",
       "    <tr>\n",
       "      <th>2</th>\n",
       "      <td>2020-09-24 11:57:27 UTC</td>\n",
       "      <td>view</td>\n",
       "      <td>215454</td>\n",
       "      <td>2144415927158964449</td>\n",
       "      <td>NaN</td>\n",
       "      <td>NaN</td>\n",
       "      <td>9.81</td>\n",
       "      <td>1515915625513238515</td>\n",
       "      <td>4TMArHtXQy</td>\n",
       "    </tr>\n",
       "    <tr>\n",
       "      <th>3</th>\n",
       "      <td>2020-09-24 11:57:33 UTC</td>\n",
       "      <td>view</td>\n",
       "      <td>635807</td>\n",
       "      <td>2144415923107266682</td>\n",
       "      <td>computers.peripherals.printer</td>\n",
       "      <td>pantum</td>\n",
       "      <td>113.81</td>\n",
       "      <td>1515915625519014356</td>\n",
       "      <td>aGFYrNgC08</td>\n",
       "    </tr>\n",
       "    <tr>\n",
       "      <th>4</th>\n",
       "      <td>2020-09-24 11:57:36 UTC</td>\n",
       "      <td>view</td>\n",
       "      <td>3658723</td>\n",
       "      <td>2144415921169498184</td>\n",
       "      <td>NaN</td>\n",
       "      <td>cameronsino</td>\n",
       "      <td>15.87</td>\n",
       "      <td>1515915625510743344</td>\n",
       "      <td>aa4mmk0kwQ</td>\n",
       "    </tr>\n",
       "  </tbody>\n",
       "</table>\n",
       "</div>"
      ],
      "text/plain": [
       "                event_time event_type  product_id          category_id  \\\n",
       "0  2020-09-24 11:57:06 UTC       view     1996170  2144415922528452715   \n",
       "1  2020-09-24 11:57:26 UTC       view      139905  2144415926932472027   \n",
       "2  2020-09-24 11:57:27 UTC       view      215454  2144415927158964449   \n",
       "3  2020-09-24 11:57:33 UTC       view      635807  2144415923107266682   \n",
       "4  2020-09-24 11:57:36 UTC       view     3658723  2144415921169498184   \n",
       "\n",
       "                   category_code        brand   price              user_id  \\\n",
       "0          electronics.telephone          NaN   31.90  1515915625519388267   \n",
       "1    computers.components.cooler       zalman   17.16  1515915625519380411   \n",
       "2                            NaN          NaN    9.81  1515915625513238515   \n",
       "3  computers.peripherals.printer       pantum  113.81  1515915625519014356   \n",
       "4                            NaN  cameronsino   15.87  1515915625510743344   \n",
       "\n",
       "  user_session  \n",
       "0   LJuJVLEjPT  \n",
       "1   tdicluNnRY  \n",
       "2   4TMArHtXQy  \n",
       "3   aGFYrNgC08  \n",
       "4   aa4mmk0kwQ  "
      ]
     },
     "execution_count": 12,
     "metadata": {},
     "output_type": "execute_result"
    }
   ],
   "source": [
    "df.head()"
   ]
  },
  {
   "cell_type": "code",
   "execution_count": 13,
   "id": "ff80143f-ece9-4699-8753-6ed46aa1a998",
   "metadata": {},
   "outputs": [
    {
     "data": {
      "text/plain": [
       "(407283,)"
      ]
     },
     "execution_count": 13,
     "metadata": {},
     "output_type": "execute_result"
    }
   ],
   "source": [
    "df.user_id.unique().shape"
   ]
  },
  {
   "cell_type": "code",
   "execution_count": 14,
   "id": "947df14a-d8f9-4a42-aa7d-cdcabf22b339",
   "metadata": {},
   "outputs": [],
   "source": [
    "# Check data period"
   ]
  },
  {
   "cell_type": "code",
   "execution_count": 15,
   "id": "deb94dfa-3091-476c-b3a2-0f4a8f864e62",
   "metadata": {},
   "outputs": [],
   "source": [
    "df[\"event_time\"] = df[\"event_time\"].apply(\n",
    "    lambda x: datetime.strptime(x, \"%Y-%m-%d %H:%M:%S %Z\").replace(tzinfo=pytz.UTC)\n",
    ")"
   ]
  },
  {
   "cell_type": "code",
   "execution_count": 16,
   "id": "43275fa2-e559-491f-a6fa-f604d425abc5",
   "metadata": {},
   "outputs": [
    {
     "name": "stdout",
     "output_type": "stream",
     "text": [
      "2020-09-24 11:57:06+00:00\n",
      "2021-02-28 23:59:09+00:00\n"
     ]
    }
   ],
   "source": [
    "print(df[\"event_time\"].min())\n",
    "print(df[\"event_time\"].max())"
   ]
  },
  {
   "cell_type": "code",
   "execution_count": 17,
   "id": "35112750-b3cf-4460-a05e-e17b171f3af5",
   "metadata": {},
   "outputs": [],
   "source": [
    "df[\"year\"] = df[\"event_time\"].dt.year\n",
    "df[\"month\"] = df[\"event_time\"].apply(lambda x: x.strftime(\"%m\"))\n",
    "df[\"period\"] = df.apply(lambda x: str(x[\"year\"]) + \"-\" + x[\"month\"], axis=1)"
   ]
  },
  {
   "cell_type": "code",
   "execution_count": 18,
   "id": "5adadf8e-d31c-41e2-85e8-5a7e61870619",
   "metadata": {},
   "outputs": [],
   "source": [
    "# Check num of interactions monthly"
   ]
  },
  {
   "cell_type": "code",
   "execution_count": 19,
   "id": "18c87164-82b2-47cd-a16a-e386ee10961c",
   "metadata": {},
   "outputs": [
    {
     "data": {
      "text/plain": [
       "period\n",
       "2020-09     28074\n",
       "2020-10    161544\n",
       "2020-11    188225\n",
       "2020-12    152720\n",
       "2021-01    187587\n",
       "2021-02    166979\n",
       "dtype: int64"
      ]
     },
     "execution_count": 19,
     "metadata": {},
     "output_type": "execute_result"
    }
   ],
   "source": [
    "df.groupby(by=[\"period\"]).size()"
   ]
  },
  {
   "cell_type": "code",
   "execution_count": 36,
   "id": "83e85f7e-e059-4689-8158-49771bc02108",
   "metadata": {},
   "outputs": [],
   "source": [
    "# Check kind of event"
   ]
  },
  {
   "cell_type": "code",
   "execution_count": 20,
   "id": "921b7b79-a73d-443b-8cb2-cc8b7fa267e5",
   "metadata": {},
   "outputs": [
    {
     "data": {
      "text/plain": [
       "array(['view', 'cart', 'purchase'], dtype=object)"
      ]
     },
     "execution_count": 20,
     "metadata": {},
     "output_type": "execute_result"
    }
   ],
   "source": [
    "df[\"event_type\"].unique()"
   ]
  },
  {
   "cell_type": "code",
   "execution_count": null,
   "id": "44deed8e-207f-4db8-b37c-694c7c5d5597",
   "metadata": {},
   "outputs": [],
   "source": [
    "# Data Exploration"
   ]
  },
  {
   "cell_type": "code",
   "execution_count": 124,
   "id": "fc15a174-bf70-42cc-bf63-c648f8d08256",
   "metadata": {},
   "outputs": [],
   "source": [
    "# Categort Analysis"
   ]
  },
  {
   "cell_type": "code",
   "execution_count": 21,
   "id": "e2b99cbd-195c-44e6-8fdf-d58f4be45b53",
   "metadata": {},
   "outputs": [],
   "source": [
    "view_count = (\n",
    "    (\n",
    "        df.groupby(\"category_id\")[\"event_type\"]\n",
    "        .apply(lambda x: (x == \"view\").sum())\n",
    "        .reset_index(name=\"view_count\")\n",
    "    )\n",
    "    .sort_values(by=\"view_count\", ascending=False)\n",
    "    .reset_index(drop=True)\n",
    ")"
   ]
  },
  {
   "cell_type": "code",
   "execution_count": 22,
   "id": "a8e74bae-8ce5-4844-9ac4-d34ee95d3ea5",
   "metadata": {},
   "outputs": [],
   "source": [
    "cart_count = (\n",
    "    (\n",
    "        df.groupby(\"category_id\")[\"event_type\"]\n",
    "        .apply(lambda x: (x == \"cart\").sum())\n",
    "        .reset_index(name=\"cart_count\")\n",
    "    )\n",
    "    .sort_values(by=\"cart_count\", ascending=False)\n",
    "    .reset_index(drop=True)\n",
    ")"
   ]
  },
  {
   "cell_type": "code",
   "execution_count": 23,
   "id": "fda903de-0507-4d8c-9a85-760117f9cc38",
   "metadata": {},
   "outputs": [],
   "source": [
    "purchase_count = (\n",
    "    (\n",
    "        df.groupby(\"category_id\")[\"event_type\"]\n",
    "        .apply(lambda x: (x == \"purchase\").sum())\n",
    "        .reset_index(name=\"purchase_count\")\n",
    "    )\n",
    "    .sort_values(by=\"purchase_count\", ascending=False)\n",
    "    .reset_index(drop=True)\n",
    ")"
   ]
  },
  {
   "cell_type": "code",
   "execution_count": 24,
   "id": "04355b38-784b-4d08-8878-cc30b27adf7c",
   "metadata": {},
   "outputs": [],
   "source": [
    "agg_df = pd.merge(\n",
    "    view_count, cart_count, left_on=\"category_id\", right_on=\"category_id\"\n",
    ").merge(purchase_count, on=\"category_id\")"
   ]
  },
  {
   "cell_type": "code",
   "execution_count": 25,
   "id": "ee07d834-c53f-48f9-a00b-b5fa1ec48743",
   "metadata": {},
   "outputs": [],
   "source": [
    "agg_df[\"add_to_cart\"] = agg_df[\"cart_count\"] / agg_df[\"view_count\"]\n",
    "agg_df[\"checkout_ratio\"] = agg_df[\"purchase_count\"] / agg_df[\"cart_count\"]"
   ]
  },
  {
   "cell_type": "code",
   "execution_count": 26,
   "id": "7e41248a-c22e-4e36-918d-f334bd08c39a",
   "metadata": {},
   "outputs": [],
   "source": [
    "agg_df[\"checkout_ratio\"] = agg_df[\"checkout_ratio\"].fillna(0)\n",
    "agg_df[\"checkout_ratio\"] = agg_df[\"checkout_ratio\"].apply(\n",
    "    lambda x: 0 if x > 10000000000 else x\n",
    ")"
   ]
  },
  {
   "cell_type": "code",
   "execution_count": 27,
   "id": "e7660a30-545e-4eda-bbbc-b0d4a7dbee6e",
   "metadata": {},
   "outputs": [],
   "source": [
    "product_to_price = (\n",
    "    df.drop_duplicates(subset=[\"product_id\"])\n",
    "    .groupby(by=[\"category_id\"])\n",
    "    .price.agg([\"mean\", \"median\", \"count\"])\n",
    "    .reset_index()\n",
    ")\n",
    "\n",
    "product_to_price = product_to_price.rename(\n",
    "    columns={\n",
    "        \"mean\": \"mean_price\",\n",
    "        \"median\": \"median_price\",\n",
    "        \"count\": \"num_unique_product\",\n",
    "    }\n",
    ")"
   ]
  },
  {
   "cell_type": "code",
   "execution_count": 28,
   "id": "c6839cf4-6131-4d05-97c6-e60096cb9e70",
   "metadata": {},
   "outputs": [],
   "source": [
    "agg_df = agg_df.merge(product_to_price, on=[\"category_id\"])"
   ]
  },
  {
   "cell_type": "code",
   "execution_count": 29,
   "id": "9cc62132-bb4c-4ff4-8160-f4e0cf07f884",
   "metadata": {},
   "outputs": [
    {
     "data": {
      "text/html": [
       "<div>\n",
       "<style scoped>\n",
       "    .dataframe tbody tr th:only-of-type {\n",
       "        vertical-align: middle;\n",
       "    }\n",
       "\n",
       "    .dataframe tbody tr th {\n",
       "        vertical-align: top;\n",
       "    }\n",
       "\n",
       "    .dataframe thead th {\n",
       "        text-align: right;\n",
       "    }\n",
       "</style>\n",
       "<table border=\"1\" class=\"dataframe\">\n",
       "  <thead>\n",
       "    <tr style=\"text-align: right;\">\n",
       "      <th></th>\n",
       "      <th>category_id</th>\n",
       "      <th>view_count</th>\n",
       "      <th>cart_count</th>\n",
       "      <th>purchase_count</th>\n",
       "      <th>add_to_cart</th>\n",
       "      <th>checkout_ratio</th>\n",
       "      <th>mean_price</th>\n",
       "      <th>median_price</th>\n",
       "      <th>num_unique_product</th>\n",
       "    </tr>\n",
       "  </thead>\n",
       "  <tbody>\n",
       "    <tr>\n",
       "      <th>0</th>\n",
       "      <td>2144415922427789416</td>\n",
       "      <td>97145</td>\n",
       "      <td>12684</td>\n",
       "      <td>6888</td>\n",
       "      <td>0.130568</td>\n",
       "      <td>0.543046</td>\n",
       "      <td>398.784304</td>\n",
       "      <td>308.43</td>\n",
       "      <td>539</td>\n",
       "    </tr>\n",
       "    <tr>\n",
       "      <th>1</th>\n",
       "      <td>2144415925011480748</td>\n",
       "      <td>32552</td>\n",
       "      <td>2975</td>\n",
       "      <td>2679</td>\n",
       "      <td>0.091392</td>\n",
       "      <td>0.900504</td>\n",
       "      <td>62.174043</td>\n",
       "      <td>27.55</td>\n",
       "      <td>3042</td>\n",
       "    </tr>\n",
       "    <tr>\n",
       "      <th>2</th>\n",
       "      <td>2144415922528452715</td>\n",
       "      <td>30442</td>\n",
       "      <td>3327</td>\n",
       "      <td>2759</td>\n",
       "      <td>0.109290</td>\n",
       "      <td>0.829276</td>\n",
       "      <td>31.161895</td>\n",
       "      <td>25.17</td>\n",
       "      <td>1657</td>\n",
       "    </tr>\n",
       "    <tr>\n",
       "      <th>3</th>\n",
       "      <td>2144415924491387038</td>\n",
       "      <td>23225</td>\n",
       "      <td>2113</td>\n",
       "      <td>1266</td>\n",
       "      <td>0.090980</td>\n",
       "      <td>0.599148</td>\n",
       "      <td>177.290902</td>\n",
       "      <td>112.05</td>\n",
       "      <td>399</td>\n",
       "    </tr>\n",
       "    <tr>\n",
       "      <th>4</th>\n",
       "      <td>2144415925196030129</td>\n",
       "      <td>22387</td>\n",
       "      <td>794</td>\n",
       "      <td>322</td>\n",
       "      <td>0.035467</td>\n",
       "      <td>0.405542</td>\n",
       "      <td>196.299719</td>\n",
       "      <td>102.54</td>\n",
       "      <td>569</td>\n",
       "    </tr>\n",
       "  </tbody>\n",
       "</table>\n",
       "</div>"
      ],
      "text/plain": [
       "           category_id  view_count  cart_count  purchase_count  add_to_cart  \\\n",
       "0  2144415922427789416       97145       12684            6888     0.130568   \n",
       "1  2144415925011480748       32552        2975            2679     0.091392   \n",
       "2  2144415922528452715       30442        3327            2759     0.109290   \n",
       "3  2144415924491387038       23225        2113            1266     0.090980   \n",
       "4  2144415925196030129       22387         794             322     0.035467   \n",
       "\n",
       "   checkout_ratio  mean_price  median_price  num_unique_product  \n",
       "0        0.543046  398.784304        308.43                 539  \n",
       "1        0.900504   62.174043         27.55                3042  \n",
       "2        0.829276   31.161895         25.17                1657  \n",
       "3        0.599148  177.290902        112.05                 399  \n",
       "4        0.405542  196.299719        102.54                 569  "
      ]
     },
     "execution_count": 29,
     "metadata": {},
     "output_type": "execute_result"
    }
   ],
   "source": [
    "agg_df.head()"
   ]
  },
  {
   "cell_type": "code",
   "execution_count": 122,
   "id": "321b0a96-9db6-497f-9059-ac74a5dce8aa",
   "metadata": {},
   "outputs": [],
   "source": [
    "# User Analysis"
   ]
  },
  {
   "cell_type": "code",
   "execution_count": 30,
   "id": "76792e27-251a-4f15-a203-ffbae5ffc186",
   "metadata": {},
   "outputs": [],
   "source": [
    "cached = df.groupby(by=[\"user_id\"]).agg(\n",
    "    num_view=(\"event_type\", lambda x: (x == \"view\").sum()),\n",
    "    num_cart=(\"event_type\", lambda x: (x == \"cart\").sum()),\n",
    "    num_purchase=(\"event_type\", lambda x: (x == \"purchase\").sum()),\n",
    ")"
   ]
  },
  {
   "cell_type": "code",
   "execution_count": 31,
   "id": "178e28f6-8e0d-4bdb-a9a3-58edbfe418f7",
   "metadata": {},
   "outputs": [],
   "source": [
    "cached = cached.reset_index()"
   ]
  },
  {
   "cell_type": "code",
   "execution_count": 32,
   "id": "bda618e2-05a9-4808-b7ed-865d12002174",
   "metadata": {},
   "outputs": [
    {
     "data": {
      "text/html": [
       "<div>\n",
       "<style scoped>\n",
       "    .dataframe tbody tr th:only-of-type {\n",
       "        vertical-align: middle;\n",
       "    }\n",
       "\n",
       "    .dataframe tbody tr th {\n",
       "        vertical-align: top;\n",
       "    }\n",
       "\n",
       "    .dataframe thead th {\n",
       "        text-align: right;\n",
       "    }\n",
       "</style>\n",
       "<table border=\"1\" class=\"dataframe\">\n",
       "  <thead>\n",
       "    <tr style=\"text-align: right;\">\n",
       "      <th></th>\n",
       "      <th>num_view</th>\n",
       "      <th>num_cart</th>\n",
       "      <th>num_purchase</th>\n",
       "    </tr>\n",
       "  </thead>\n",
       "  <tbody>\n",
       "    <tr>\n",
       "      <th>num_view</th>\n",
       "      <td>1.000000</td>\n",
       "      <td>0.345112</td>\n",
       "      <td>0.258649</td>\n",
       "    </tr>\n",
       "    <tr>\n",
       "      <th>num_cart</th>\n",
       "      <td>0.345112</td>\n",
       "      <td>1.000000</td>\n",
       "      <td>0.701672</td>\n",
       "    </tr>\n",
       "    <tr>\n",
       "      <th>num_purchase</th>\n",
       "      <td>0.258649</td>\n",
       "      <td>0.701672</td>\n",
       "      <td>1.000000</td>\n",
       "    </tr>\n",
       "  </tbody>\n",
       "</table>\n",
       "</div>"
      ],
      "text/plain": [
       "              num_view  num_cart  num_purchase\n",
       "num_view      1.000000  0.345112      0.258649\n",
       "num_cart      0.345112  1.000000      0.701672\n",
       "num_purchase  0.258649  0.701672      1.000000"
      ]
     },
     "execution_count": 32,
     "metadata": {},
     "output_type": "execute_result"
    }
   ],
   "source": [
    "cached.reset_index()[[\"num_view\", \"num_cart\", \"num_purchase\"]].corr(\"spearman\")"
   ]
  },
  {
   "cell_type": "code",
   "execution_count": 33,
   "id": "c7d5c6b7-991a-497a-9515-c8e92ce0daa5",
   "metadata": {},
   "outputs": [],
   "source": [
    "cached_2 = (\n",
    "    df[df.event_type == \"cart\"]\n",
    "    .groupby(by=[\"user_id\"])\n",
    "    .agg(\n",
    "        num_unique_product_cart=(\"product_id\", \"nunique\"),\n",
    "        num_unique_category_cart=(\"category_id\", \"nunique\"),\n",
    "    )\n",
    "    .reset_index()\n",
    ")"
   ]
  },
  {
   "cell_type": "code",
   "execution_count": 34,
   "id": "56078562-765f-4d99-93e3-f07a62004e02",
   "metadata": {},
   "outputs": [],
   "source": [
    "cached_3 = cached.merge(cached_2, on=[\"user_id\"], how=\"left\")"
   ]
  },
  {
   "cell_type": "code",
   "execution_count": 35,
   "id": "b664c73f-9bfc-4c16-9058-7a28d14ffac8",
   "metadata": {},
   "outputs": [],
   "source": [
    "cached_3[\"num_unique_product_cart\"] = cached_3[\"num_unique_product_cart\"].fillna(0)\n",
    "cached_3[\"num_unique_category_cart\"] = cached_3[\"num_unique_category_cart\"].fillna(0)"
   ]
  },
  {
   "cell_type": "code",
   "execution_count": 36,
   "id": "dd0534e9-5931-4eea-9aac-38a48a05529b",
   "metadata": {},
   "outputs": [
    {
     "data": {
      "text/html": [
       "<div>\n",
       "<style scoped>\n",
       "    .dataframe tbody tr th:only-of-type {\n",
       "        vertical-align: middle;\n",
       "    }\n",
       "\n",
       "    .dataframe tbody tr th {\n",
       "        vertical-align: top;\n",
       "    }\n",
       "\n",
       "    .dataframe thead th {\n",
       "        text-align: right;\n",
       "    }\n",
       "</style>\n",
       "<table border=\"1\" class=\"dataframe\">\n",
       "  <thead>\n",
       "    <tr style=\"text-align: right;\">\n",
       "      <th></th>\n",
       "      <th>num_view</th>\n",
       "      <th>num_cart</th>\n",
       "      <th>num_purchase</th>\n",
       "      <th>num_unique_product_cart</th>\n",
       "      <th>num_unique_category_cart</th>\n",
       "    </tr>\n",
       "  </thead>\n",
       "  <tbody>\n",
       "    <tr>\n",
       "      <th>num_view</th>\n",
       "      <td>1.000000</td>\n",
       "      <td>0.449734</td>\n",
       "      <td>0.310665</td>\n",
       "      <td>0.411137</td>\n",
       "      <td>0.341530</td>\n",
       "    </tr>\n",
       "    <tr>\n",
       "      <th>num_cart</th>\n",
       "      <td>0.449734</td>\n",
       "      <td>1.000000</td>\n",
       "      <td>0.594417</td>\n",
       "      <td>0.919823</td>\n",
       "      <td>0.767005</td>\n",
       "    </tr>\n",
       "    <tr>\n",
       "      <th>num_purchase</th>\n",
       "      <td>0.310665</td>\n",
       "      <td>0.594417</td>\n",
       "      <td>1.000000</td>\n",
       "      <td>0.562469</td>\n",
       "      <td>0.546721</td>\n",
       "    </tr>\n",
       "    <tr>\n",
       "      <th>num_unique_product_cart</th>\n",
       "      <td>0.411137</td>\n",
       "      <td>0.919823</td>\n",
       "      <td>0.562469</td>\n",
       "      <td>1.000000</td>\n",
       "      <td>0.875415</td>\n",
       "    </tr>\n",
       "    <tr>\n",
       "      <th>num_unique_category_cart</th>\n",
       "      <td>0.341530</td>\n",
       "      <td>0.767005</td>\n",
       "      <td>0.546721</td>\n",
       "      <td>0.875415</td>\n",
       "      <td>1.000000</td>\n",
       "    </tr>\n",
       "  </tbody>\n",
       "</table>\n",
       "</div>"
      ],
      "text/plain": [
       "                          num_view  num_cart  num_purchase  \\\n",
       "num_view                  1.000000  0.449734      0.310665   \n",
       "num_cart                  0.449734  1.000000      0.594417   \n",
       "num_purchase              0.310665  0.594417      1.000000   \n",
       "num_unique_product_cart   0.411137  0.919823      0.562469   \n",
       "num_unique_category_cart  0.341530  0.767005      0.546721   \n",
       "\n",
       "                          num_unique_product_cart  num_unique_category_cart  \n",
       "num_view                                 0.411137                  0.341530  \n",
       "num_cart                                 0.919823                  0.767005  \n",
       "num_purchase                             0.562469                  0.546721  \n",
       "num_unique_product_cart                  1.000000                  0.875415  \n",
       "num_unique_category_cart                 0.875415                  1.000000  "
      ]
     },
     "execution_count": 36,
     "metadata": {},
     "output_type": "execute_result"
    }
   ],
   "source": [
    "cached_3.dropna()[\n",
    "    [\n",
    "        \"num_view\",\n",
    "        \"num_cart\",\n",
    "        \"num_purchase\",\n",
    "        \"num_unique_product_cart\",\n",
    "        \"num_unique_category_cart\",\n",
    "    ]\n",
    "].corr()"
   ]
  },
  {
   "cell_type": "code",
   "execution_count": 37,
   "id": "5ca71b87-cb58-49aa-9f67-33fbc8b1525a",
   "metadata": {},
   "outputs": [],
   "source": [
    "view_threshold = 15\n",
    "purchase_threshold = 5\n",
    "unique_threshold = 3\n",
    "\n",
    "\n",
    "def categorize(row):\n",
    "    view_category = \"High\" if row[\"num_view\"] >= view_threshold else \"Low\"\n",
    "    purchase_category = \"High\" if row[\"num_purchase\"] >= purchase_threshold else \"Low\"\n",
    "    unique_category = (\n",
    "        \"High\" if row[\"num_unique_category_cart\"] >= unique_threshold else \"Low\"\n",
    "    )\n",
    "\n",
    "    return (\n",
    "        f\"{view_category} View, {purchase_category} Purchase, {unique_category} Unique\"\n",
    "    )"
   ]
  },
  {
   "cell_type": "code",
   "execution_count": 58,
   "id": "cbe40ac3-9e4b-4518-b1ad-01528661df28",
   "metadata": {},
   "outputs": [
    {
     "data": {
      "text/html": [
       "<div>\n",
       "<style scoped>\n",
       "    .dataframe tbody tr th:only-of-type {\n",
       "        vertical-align: middle;\n",
       "    }\n",
       "\n",
       "    .dataframe tbody tr th {\n",
       "        vertical-align: top;\n",
       "    }\n",
       "\n",
       "    .dataframe thead th {\n",
       "        text-align: right;\n",
       "    }\n",
       "</style>\n",
       "<table border=\"1\" class=\"dataframe\">\n",
       "  <thead>\n",
       "    <tr style=\"text-align: right;\">\n",
       "      <th></th>\n",
       "      <th>num_view</th>\n",
       "      <th>num_cart</th>\n",
       "      <th>num_purchase</th>\n",
       "      <th>num_unique_product_cart</th>\n",
       "      <th>num_unique_category_cart</th>\n",
       "    </tr>\n",
       "  </thead>\n",
       "  <tbody>\n",
       "    <tr>\n",
       "      <th>count</th>\n",
       "      <td>21304.000000</td>\n",
       "      <td>21304.000000</td>\n",
       "      <td>21304.000000</td>\n",
       "      <td>21304.000000</td>\n",
       "      <td>21304.000000</td>\n",
       "    </tr>\n",
       "    <tr>\n",
       "      <th>mean</th>\n",
       "      <td>5.496386</td>\n",
       "      <td>1.528351</td>\n",
       "      <td>1.753004</td>\n",
       "      <td>1.206863</td>\n",
       "      <td>1.022155</td>\n",
       "    </tr>\n",
       "    <tr>\n",
       "      <th>std</th>\n",
       "      <td>9.714407</td>\n",
       "      <td>1.843867</td>\n",
       "      <td>1.742418</td>\n",
       "      <td>1.118467</td>\n",
       "      <td>0.554479</td>\n",
       "    </tr>\n",
       "    <tr>\n",
       "      <th>min</th>\n",
       "      <td>0.000000</td>\n",
       "      <td>0.000000</td>\n",
       "      <td>1.000000</td>\n",
       "      <td>0.000000</td>\n",
       "      <td>0.000000</td>\n",
       "    </tr>\n",
       "    <tr>\n",
       "      <th>25%</th>\n",
       "      <td>2.000000</td>\n",
       "      <td>1.000000</td>\n",
       "      <td>1.000000</td>\n",
       "      <td>1.000000</td>\n",
       "      <td>1.000000</td>\n",
       "    </tr>\n",
       "    <tr>\n",
       "      <th>50%</th>\n",
       "      <td>3.000000</td>\n",
       "      <td>1.000000</td>\n",
       "      <td>1.000000</td>\n",
       "      <td>1.000000</td>\n",
       "      <td>1.000000</td>\n",
       "    </tr>\n",
       "    <tr>\n",
       "      <th>75%</th>\n",
       "      <td>6.000000</td>\n",
       "      <td>2.000000</td>\n",
       "      <td>2.000000</td>\n",
       "      <td>1.000000</td>\n",
       "      <td>1.000000</td>\n",
       "    </tr>\n",
       "    <tr>\n",
       "      <th>max</th>\n",
       "      <td>318.000000</td>\n",
       "      <td>85.000000</td>\n",
       "      <td>56.000000</td>\n",
       "      <td>33.000000</td>\n",
       "      <td>11.000000</td>\n",
       "    </tr>\n",
       "  </tbody>\n",
       "</table>\n",
       "</div>"
      ],
      "text/plain": [
       "           num_view      num_cart  num_purchase  num_unique_product_cart  \\\n",
       "count  21304.000000  21304.000000  21304.000000             21304.000000   \n",
       "mean       5.496386      1.528351      1.753004                 1.206863   \n",
       "std        9.714407      1.843867      1.742418                 1.118467   \n",
       "min        0.000000      0.000000      1.000000                 0.000000   \n",
       "25%        2.000000      1.000000      1.000000                 1.000000   \n",
       "50%        3.000000      1.000000      1.000000                 1.000000   \n",
       "75%        6.000000      2.000000      2.000000                 1.000000   \n",
       "max      318.000000     85.000000     56.000000                33.000000   \n",
       "\n",
       "       num_unique_category_cart  \n",
       "count              21304.000000  \n",
       "mean                   1.022155  \n",
       "std                    0.554479  \n",
       "min                    0.000000  \n",
       "25%                    1.000000  \n",
       "50%                    1.000000  \n",
       "75%                    1.000000  \n",
       "max                   11.000000  "
      ]
     },
     "execution_count": 58,
     "metadata": {},
     "output_type": "execute_result"
    }
   ],
   "source": [
    "cached_3[cached_3.num_purchase > 0][\n",
    "    [\n",
    "        \"num_view\",\n",
    "        \"num_cart\",\n",
    "        \"num_purchase\",\n",
    "        \"num_unique_product_cart\",\n",
    "        \"num_unique_category_cart\",\n",
    "    ]\n",
    "].describe()"
   ]
  },
  {
   "cell_type": "code",
   "execution_count": 39,
   "id": "4314744f-dd60-4835-8d7b-a71b6df8aaa6",
   "metadata": {},
   "outputs": [],
   "source": [
    "cached_3[\"user_type\"] = cached_3.apply(categorize, axis=1)"
   ]
  },
  {
   "cell_type": "code",
   "execution_count": 40,
   "id": "d3f86d69-63c1-43a8-876a-4a20b69b8892",
   "metadata": {},
   "outputs": [
    {
     "data": {
      "text/plain": [
       "High View, High Purchase, High Unique       124\n",
       "High View, High Purchase, Low Unique        242\n",
       "High View, Low Purchase, High Unique        173\n",
       "High View, Low Purchase, Low Unique        2849\n",
       "Low View, High Purchase, High Unique         41\n",
       "Low View, High Purchase, Low Unique         519\n",
       "Low View, Low Purchase, High Unique         191\n",
       "Low View, Low Purchase, Low Unique       403144\n",
       "Name: user_type, dtype: int64"
      ]
     },
     "execution_count": 40,
     "metadata": {},
     "output_type": "execute_result"
    }
   ],
   "source": [
    "cached_3[\"user_type\"].value_counts().sort_index()"
   ]
  },
  {
   "cell_type": "code",
   "execution_count": 129,
   "id": "c8619761-17c7-4947-86d6-99298a21da6c",
   "metadata": {},
   "outputs": [
    {
     "data": {
      "text/html": [
       "<div>\n",
       "<style scoped>\n",
       "    .dataframe tbody tr th:only-of-type {\n",
       "        vertical-align: middle;\n",
       "    }\n",
       "\n",
       "    .dataframe tbody tr th {\n",
       "        vertical-align: top;\n",
       "    }\n",
       "\n",
       "    .dataframe thead th {\n",
       "        text-align: right;\n",
       "    }\n",
       "</style>\n",
       "<table border=\"1\" class=\"dataframe\">\n",
       "  <thead>\n",
       "    <tr style=\"text-align: right;\">\n",
       "      <th></th>\n",
       "      <th>user_id</th>\n",
       "      <th>num_view</th>\n",
       "      <th>num_cart</th>\n",
       "      <th>num_purchase</th>\n",
       "      <th>num_unique_product_cart</th>\n",
       "      <th>num_unique_category_cart</th>\n",
       "      <th>user_type</th>\n",
       "    </tr>\n",
       "  </thead>\n",
       "  <tbody>\n",
       "    <tr>\n",
       "      <th>29</th>\n",
       "      <td>1515915625353534622</td>\n",
       "      <td>5</td>\n",
       "      <td>2</td>\n",
       "      <td>3</td>\n",
       "      <td>1.0</td>\n",
       "      <td>1.0</td>\n",
       "      <td>Low View, Low Purchase, Low Unique</td>\n",
       "    </tr>\n",
       "    <tr>\n",
       "      <th>94</th>\n",
       "      <td>1515915625354561351</td>\n",
       "      <td>15</td>\n",
       "      <td>3</td>\n",
       "      <td>3</td>\n",
       "      <td>1.0</td>\n",
       "      <td>1.0</td>\n",
       "      <td>High View, Low Purchase, Low Unique</td>\n",
       "    </tr>\n",
       "    <tr>\n",
       "      <th>116</th>\n",
       "      <td>1515915625355179497</td>\n",
       "      <td>17</td>\n",
       "      <td>4</td>\n",
       "      <td>3</td>\n",
       "      <td>3.0</td>\n",
       "      <td>1.0</td>\n",
       "      <td>High View, Low Purchase, Low Unique</td>\n",
       "    </tr>\n",
       "    <tr>\n",
       "      <th>127</th>\n",
       "      <td>1515915625355398801</td>\n",
       "      <td>107</td>\n",
       "      <td>3</td>\n",
       "      <td>3</td>\n",
       "      <td>1.0</td>\n",
       "      <td>1.0</td>\n",
       "      <td>High View, Low Purchase, Low Unique</td>\n",
       "    </tr>\n",
       "    <tr>\n",
       "      <th>142</th>\n",
       "      <td>1515915625355805313</td>\n",
       "      <td>107</td>\n",
       "      <td>6</td>\n",
       "      <td>9</td>\n",
       "      <td>2.0</td>\n",
       "      <td>1.0</td>\n",
       "      <td>High View, High Purchase, Low Unique</td>\n",
       "    </tr>\n",
       "    <tr>\n",
       "      <th>...</th>\n",
       "      <td>...</td>\n",
       "      <td>...</td>\n",
       "      <td>...</td>\n",
       "      <td>...</td>\n",
       "      <td>...</td>\n",
       "      <td>...</td>\n",
       "      <td>...</td>\n",
       "    </tr>\n",
       "    <tr>\n",
       "      <th>406929</th>\n",
       "      <td>1515915625610973155</td>\n",
       "      <td>6</td>\n",
       "      <td>1</td>\n",
       "      <td>4</td>\n",
       "      <td>1.0</td>\n",
       "      <td>1.0</td>\n",
       "      <td>Low View, Low Purchase, Low Unique</td>\n",
       "    </tr>\n",
       "    <tr>\n",
       "      <th>406947</th>\n",
       "      <td>1515915625610976222</td>\n",
       "      <td>33</td>\n",
       "      <td>17</td>\n",
       "      <td>3</td>\n",
       "      <td>10.0</td>\n",
       "      <td>1.0</td>\n",
       "      <td>High View, Low Purchase, Low Unique</td>\n",
       "    </tr>\n",
       "    <tr>\n",
       "      <th>406953</th>\n",
       "      <td>1515915625610977027</td>\n",
       "      <td>3</td>\n",
       "      <td>1</td>\n",
       "      <td>3</td>\n",
       "      <td>1.0</td>\n",
       "      <td>1.0</td>\n",
       "      <td>Low View, Low Purchase, Low Unique</td>\n",
       "    </tr>\n",
       "    <tr>\n",
       "      <th>407094</th>\n",
       "      <td>1515915625610997879</td>\n",
       "      <td>3</td>\n",
       "      <td>2</td>\n",
       "      <td>3</td>\n",
       "      <td>2.0</td>\n",
       "      <td>1.0</td>\n",
       "      <td>Low View, Low Purchase, Low Unique</td>\n",
       "    </tr>\n",
       "    <tr>\n",
       "      <th>407109</th>\n",
       "      <td>1515915625610999486</td>\n",
       "      <td>2</td>\n",
       "      <td>1</td>\n",
       "      <td>3</td>\n",
       "      <td>1.0</td>\n",
       "      <td>1.0</td>\n",
       "      <td>Low View, Low Purchase, Low Unique</td>\n",
       "    </tr>\n",
       "  </tbody>\n",
       "</table>\n",
       "<p>3414 rows × 7 columns</p>\n",
       "</div>"
      ],
      "text/plain": [
       "                    user_id  num_view  num_cart  num_purchase  \\\n",
       "29      1515915625353534622         5         2             3   \n",
       "94      1515915625354561351        15         3             3   \n",
       "116     1515915625355179497        17         4             3   \n",
       "127     1515915625355398801       107         3             3   \n",
       "142     1515915625355805313       107         6             9   \n",
       "...                     ...       ...       ...           ...   \n",
       "406929  1515915625610973155         6         1             4   \n",
       "406947  1515915625610976222        33        17             3   \n",
       "406953  1515915625610977027         3         1             3   \n",
       "407094  1515915625610997879         3         2             3   \n",
       "407109  1515915625610999486         2         1             3   \n",
       "\n",
       "        num_unique_product_cart  num_unique_category_cart  \\\n",
       "29                          1.0                       1.0   \n",
       "94                          1.0                       1.0   \n",
       "116                         3.0                       1.0   \n",
       "127                         1.0                       1.0   \n",
       "142                         2.0                       1.0   \n",
       "...                         ...                       ...   \n",
       "406929                      1.0                       1.0   \n",
       "406947                     10.0                       1.0   \n",
       "406953                      1.0                       1.0   \n",
       "407094                      2.0                       1.0   \n",
       "407109                      1.0                       1.0   \n",
       "\n",
       "                                   user_type  \n",
       "29        Low View, Low Purchase, Low Unique  \n",
       "94       High View, Low Purchase, Low Unique  \n",
       "116      High View, Low Purchase, Low Unique  \n",
       "127      High View, Low Purchase, Low Unique  \n",
       "142     High View, High Purchase, Low Unique  \n",
       "...                                      ...  \n",
       "406929    Low View, Low Purchase, Low Unique  \n",
       "406947   High View, Low Purchase, Low Unique  \n",
       "406953    Low View, Low Purchase, Low Unique  \n",
       "407094    Low View, Low Purchase, Low Unique  \n",
       "407109    Low View, Low Purchase, Low Unique  \n",
       "\n",
       "[3414 rows x 7 columns]"
      ]
     },
     "execution_count": 129,
     "metadata": {},
     "output_type": "execute_result"
    }
   ],
   "source": [
    "cached_3[cached_3.num_purchase > 2]"
   ]
  },
  {
   "cell_type": "code",
   "execution_count": 41,
   "id": "06a5bf14-ac6c-4dbf-9b25-56541e9eef7f",
   "metadata": {},
   "outputs": [],
   "source": [
    "# Product Wise Analysis"
   ]
  },
  {
   "cell_type": "code",
   "execution_count": 42,
   "id": "3e2436be-5097-495a-a0e8-fce9dfe4afb0",
   "metadata": {},
   "outputs": [],
   "source": [
    "temp = df.groupby(by=[\"product_id\"]).agg(\n",
    "    num_view=(\"event_type\", lambda x: (x == \"view\").sum()),\n",
    "    num_cart=(\"event_type\", lambda x: (x == \"cart\").sum()),\n",
    "    num_purchase=(\"event_type\", lambda x: (x == \"purchase\").sum()),\n",
    ")"
   ]
  },
  {
   "cell_type": "code",
   "execution_count": 43,
   "id": "e9778b0c-4705-41fb-824f-f889523335f3",
   "metadata": {},
   "outputs": [
    {
     "data": {
      "text/html": [
       "<div>\n",
       "<style scoped>\n",
       "    .dataframe tbody tr th:only-of-type {\n",
       "        vertical-align: middle;\n",
       "    }\n",
       "\n",
       "    .dataframe tbody tr th {\n",
       "        vertical-align: top;\n",
       "    }\n",
       "\n",
       "    .dataframe thead th {\n",
       "        text-align: right;\n",
       "    }\n",
       "</style>\n",
       "<table border=\"1\" class=\"dataframe\">\n",
       "  <thead>\n",
       "    <tr style=\"text-align: right;\">\n",
       "      <th></th>\n",
       "      <th>num_view</th>\n",
       "      <th>num_cart</th>\n",
       "      <th>num_purchase</th>\n",
       "    </tr>\n",
       "    <tr>\n",
       "      <th>product_id</th>\n",
       "      <th></th>\n",
       "      <th></th>\n",
       "      <th></th>\n",
       "    </tr>\n",
       "  </thead>\n",
       "  <tbody>\n",
       "    <tr>\n",
       "      <th>102</th>\n",
       "      <td>19</td>\n",
       "      <td>3</td>\n",
       "      <td>5</td>\n",
       "    </tr>\n",
       "    <tr>\n",
       "      <th>105</th>\n",
       "      <td>664</td>\n",
       "      <td>10</td>\n",
       "      <td>3</td>\n",
       "    </tr>\n",
       "    <tr>\n",
       "      <th>109</th>\n",
       "      <td>42</td>\n",
       "      <td>0</td>\n",
       "      <td>0</td>\n",
       "    </tr>\n",
       "    <tr>\n",
       "      <th>526</th>\n",
       "      <td>30</td>\n",
       "      <td>4</td>\n",
       "      <td>5</td>\n",
       "    </tr>\n",
       "    <tr>\n",
       "      <th>561</th>\n",
       "      <td>2</td>\n",
       "      <td>0</td>\n",
       "      <td>0</td>\n",
       "    </tr>\n",
       "    <tr>\n",
       "      <th>...</th>\n",
       "      <td>...</td>\n",
       "      <td>...</td>\n",
       "      <td>...</td>\n",
       "    </tr>\n",
       "    <tr>\n",
       "      <th>4183875</th>\n",
       "      <td>183</td>\n",
       "      <td>20</td>\n",
       "      <td>7</td>\n",
       "    </tr>\n",
       "    <tr>\n",
       "      <th>4183876</th>\n",
       "      <td>16</td>\n",
       "      <td>1</td>\n",
       "      <td>0</td>\n",
       "    </tr>\n",
       "    <tr>\n",
       "      <th>4183877</th>\n",
       "      <td>6</td>\n",
       "      <td>1</td>\n",
       "      <td>0</td>\n",
       "    </tr>\n",
       "    <tr>\n",
       "      <th>4183878</th>\n",
       "      <td>6</td>\n",
       "      <td>0</td>\n",
       "      <td>0</td>\n",
       "    </tr>\n",
       "    <tr>\n",
       "      <th>4183880</th>\n",
       "      <td>81</td>\n",
       "      <td>4</td>\n",
       "      <td>2</td>\n",
       "    </tr>\n",
       "  </tbody>\n",
       "</table>\n",
       "<p>53453 rows × 3 columns</p>\n",
       "</div>"
      ],
      "text/plain": [
       "            num_view  num_cart  num_purchase\n",
       "product_id                                  \n",
       "102               19         3             5\n",
       "105              664        10             3\n",
       "109               42         0             0\n",
       "526               30         4             5\n",
       "561                2         0             0\n",
       "...              ...       ...           ...\n",
       "4183875          183        20             7\n",
       "4183876           16         1             0\n",
       "4183877            6         1             0\n",
       "4183878            6         0             0\n",
       "4183880           81         4             2\n",
       "\n",
       "[53453 rows x 3 columns]"
      ]
     },
     "execution_count": 43,
     "metadata": {},
     "output_type": "execute_result"
    }
   ],
   "source": [
    "temp"
   ]
  },
  {
   "cell_type": "code",
   "execution_count": 44,
   "id": "4cacd1ff-9fe9-4c6d-b252-b6be0b137009",
   "metadata": {},
   "outputs": [],
   "source": [
    "temp_2 = (\n",
    "    df[df.event_type == \"cart\"]\n",
    "    .groupby(by=[\"product_id\"])\n",
    "    .agg(\n",
    "        num_unique_user=(\"user_id\", \"nunique\"),\n",
    "    )\n",
    "    .reset_index()\n",
    ")"
   ]
  },
  {
   "cell_type": "code",
   "execution_count": 45,
   "id": "8d1d3855-6507-4756-87b8-1ec6203c502d",
   "metadata": {},
   "outputs": [
    {
     "data": {
      "text/plain": [
       "count    9733.000000\n",
       "mean        4.679852\n",
       "std        22.403661\n",
       "min         1.000000\n",
       "25%         1.000000\n",
       "50%         1.000000\n",
       "75%         3.000000\n",
       "max      1062.000000\n",
       "Name: num_unique_user, dtype: float64"
      ]
     },
     "execution_count": 45,
     "metadata": {},
     "output_type": "execute_result"
    }
   ],
   "source": [
    "temp_2.num_unique_user.describe()"
   ]
  },
  {
   "cell_type": "code",
   "execution_count": 54,
   "id": "cd7597f5-b003-4447-b141-213dfd8e28c0",
   "metadata": {},
   "outputs": [
    {
     "data": {
      "text/plain": [
       "(1246, 2)"
      ]
     },
     "execution_count": 54,
     "metadata": {},
     "output_type": "execute_result"
    }
   ],
   "source": [
    "temp_2[temp_2.num_unique_user > 5].shape"
   ]
  },
  {
   "cell_type": "code",
   "execution_count": 48,
   "id": "73f62493-7635-412d-af7a-8c66f0db5330",
   "metadata": {},
   "outputs": [],
   "source": [
    "temp_3 = temp.merge(temp_2, on=[\"product_id\"], how=\"left\")"
   ]
  },
  {
   "cell_type": "code",
   "execution_count": 50,
   "id": "e0c3e058-e0cf-4f79-b1ea-075dd4d96b66",
   "metadata": {},
   "outputs": [],
   "source": [
    "temp_3[\"num_unique_user\"] = temp_3[\"num_unique_user\"].fillna(0)"
   ]
  },
  {
   "cell_type": "code",
   "execution_count": 53,
   "id": "a15ac47a-65d7-4921-80a1-52f82e8bdd42",
   "metadata": {},
   "outputs": [
    {
     "data": {
      "text/html": [
       "<div>\n",
       "<style scoped>\n",
       "    .dataframe tbody tr th:only-of-type {\n",
       "        vertical-align: middle;\n",
       "    }\n",
       "\n",
       "    .dataframe tbody tr th {\n",
       "        vertical-align: top;\n",
       "    }\n",
       "\n",
       "    .dataframe thead th {\n",
       "        text-align: right;\n",
       "    }\n",
       "</style>\n",
       "<table border=\"1\" class=\"dataframe\">\n",
       "  <thead>\n",
       "    <tr style=\"text-align: right;\">\n",
       "      <th></th>\n",
       "      <th>num_view</th>\n",
       "      <th>num_cart</th>\n",
       "      <th>num_purchase</th>\n",
       "      <th>num_unique_user</th>\n",
       "    </tr>\n",
       "  </thead>\n",
       "  <tbody>\n",
       "    <tr>\n",
       "      <th>num_view</th>\n",
       "      <td>1.000000</td>\n",
       "      <td>0.930896</td>\n",
       "      <td>0.868575</td>\n",
       "      <td>0.936993</td>\n",
       "    </tr>\n",
       "    <tr>\n",
       "      <th>num_cart</th>\n",
       "      <td>0.930896</td>\n",
       "      <td>1.000000</td>\n",
       "      <td>0.958048</td>\n",
       "      <td>0.997640</td>\n",
       "    </tr>\n",
       "    <tr>\n",
       "      <th>num_purchase</th>\n",
       "      <td>0.868575</td>\n",
       "      <td>0.958048</td>\n",
       "      <td>1.000000</td>\n",
       "      <td>0.950850</td>\n",
       "    </tr>\n",
       "    <tr>\n",
       "      <th>num_unique_user</th>\n",
       "      <td>0.936993</td>\n",
       "      <td>0.997640</td>\n",
       "      <td>0.950850</td>\n",
       "      <td>1.000000</td>\n",
       "    </tr>\n",
       "  </tbody>\n",
       "</table>\n",
       "</div>"
      ],
      "text/plain": [
       "                 num_view  num_cart  num_purchase  num_unique_user\n",
       "num_view         1.000000  0.930896      0.868575         0.936993\n",
       "num_cart         0.930896  1.000000      0.958048         0.997640\n",
       "num_purchase     0.868575  0.958048      1.000000         0.950850\n",
       "num_unique_user  0.936993  0.997640      0.950850         1.000000"
      ]
     },
     "execution_count": 53,
     "metadata": {},
     "output_type": "execute_result"
    }
   ],
   "source": [
    "temp_3[temp_3.num_purchase > 0][\n",
    "    [\"num_view\", \"num_cart\", \"num_purchase\", \"num_unique_user\"]\n",
    "].corr()"
   ]
  },
  {
   "cell_type": "code",
   "execution_count": 57,
   "id": "1bb6d01e-7593-4c9c-a0ed-c3fe02dfc33f",
   "metadata": {},
   "outputs": [
    {
     "data": {
      "text/html": [
       "<div>\n",
       "<style scoped>\n",
       "    .dataframe tbody tr th:only-of-type {\n",
       "        vertical-align: middle;\n",
       "    }\n",
       "\n",
       "    .dataframe tbody tr th {\n",
       "        vertical-align: top;\n",
       "    }\n",
       "\n",
       "    .dataframe thead th {\n",
       "        text-align: right;\n",
       "    }\n",
       "</style>\n",
       "<table border=\"1\" class=\"dataframe\">\n",
       "  <thead>\n",
       "    <tr style=\"text-align: right;\">\n",
       "      <th></th>\n",
       "      <th>num_view</th>\n",
       "      <th>num_cart</th>\n",
       "      <th>num_purchase</th>\n",
       "      <th>num_unique_user</th>\n",
       "    </tr>\n",
       "  </thead>\n",
       "  <tbody>\n",
       "    <tr>\n",
       "      <th>count</th>\n",
       "      <td>6435.000000</td>\n",
       "      <td>6435.000000</td>\n",
       "      <td>6435.000000</td>\n",
       "      <td>6435.000000</td>\n",
       "    </tr>\n",
       "    <tr>\n",
       "      <th>mean</th>\n",
       "      <td>68.207148</td>\n",
       "      <td>7.686092</td>\n",
       "      <td>5.803574</td>\n",
       "      <td>6.414452</td>\n",
       "    </tr>\n",
       "    <tr>\n",
       "      <th>std</th>\n",
       "      <td>268.658666</td>\n",
       "      <td>32.836924</td>\n",
       "      <td>20.418118</td>\n",
       "      <td>27.387671</td>\n",
       "    </tr>\n",
       "    <tr>\n",
       "      <th>min</th>\n",
       "      <td>0.000000</td>\n",
       "      <td>0.000000</td>\n",
       "      <td>1.000000</td>\n",
       "      <td>0.000000</td>\n",
       "    </tr>\n",
       "    <tr>\n",
       "      <th>25%</th>\n",
       "      <td>8.000000</td>\n",
       "      <td>1.000000</td>\n",
       "      <td>1.000000</td>\n",
       "      <td>1.000000</td>\n",
       "    </tr>\n",
       "    <tr>\n",
       "      <th>50%</th>\n",
       "      <td>20.000000</td>\n",
       "      <td>2.000000</td>\n",
       "      <td>2.000000</td>\n",
       "      <td>2.000000</td>\n",
       "    </tr>\n",
       "    <tr>\n",
       "      <th>75%</th>\n",
       "      <td>51.000000</td>\n",
       "      <td>5.000000</td>\n",
       "      <td>4.000000</td>\n",
       "      <td>4.000000</td>\n",
       "    </tr>\n",
       "    <tr>\n",
       "      <th>max</th>\n",
       "      <td>12805.000000</td>\n",
       "      <td>1220.000000</td>\n",
       "      <td>564.000000</td>\n",
       "      <td>1062.000000</td>\n",
       "    </tr>\n",
       "  </tbody>\n",
       "</table>\n",
       "</div>"
      ],
      "text/plain": [
       "           num_view     num_cart  num_purchase  num_unique_user\n",
       "count   6435.000000  6435.000000   6435.000000      6435.000000\n",
       "mean      68.207148     7.686092      5.803574         6.414452\n",
       "std      268.658666    32.836924     20.418118        27.387671\n",
       "min        0.000000     0.000000      1.000000         0.000000\n",
       "25%        8.000000     1.000000      1.000000         1.000000\n",
       "50%       20.000000     2.000000      2.000000         2.000000\n",
       "75%       51.000000     5.000000      4.000000         4.000000\n",
       "max    12805.000000  1220.000000    564.000000      1062.000000"
      ]
     },
     "execution_count": 57,
     "metadata": {},
     "output_type": "execute_result"
    }
   ],
   "source": [
    "temp_3[temp_3.num_purchase > 0][\n",
    "    [\"num_view\", \"num_cart\", \"num_purchase\", \"num_unique_user\"]\n",
    "].describe()"
   ]
  },
  {
   "cell_type": "code",
   "execution_count": 61,
   "id": "2ed353a3-a7df-4df0-b774-9b32f6e773cf",
   "metadata": {},
   "outputs": [],
   "source": [
    "item_view_threshold = 60\n",
    "item_purchase_threshold = 5\n",
    "item_unique_threshold = 5\n",
    "\n",
    "\n",
    "def item_categorize(row):\n",
    "    view_category = \"High\" if row[\"num_view\"] >= item_view_threshold else \"Low\"\n",
    "    purchase_category = (\n",
    "        \"High\" if row[\"num_purchase\"] >= item_purchase_threshold else \"Low\"\n",
    "    )\n",
    "    unique_category = (\n",
    "        \"High\" if row[\"num_unique_user\"] >= item_unique_threshold else \"Low\"\n",
    "    )\n",
    "\n",
    "    return (\n",
    "        f\"{view_category} View, {purchase_category} Purchase, {unique_category} Unique\"\n",
    "    )"
   ]
  },
  {
   "cell_type": "code",
   "execution_count": 62,
   "id": "ea3968af-2acf-4034-8cc3-36b6746c083e",
   "metadata": {},
   "outputs": [],
   "source": [
    "temp_3[\"item_type\"] = temp_3.apply(item_categorize, axis=1)"
   ]
  },
  {
   "cell_type": "code",
   "execution_count": 63,
   "id": "5e2b233c-f222-4760-91a0-a5ba5ec5f62c",
   "metadata": {},
   "outputs": [
    {
     "data": {
      "text/plain": [
       "High View, High Purchase, High Unique      893\n",
       "High View, High Purchase, Low Unique        48\n",
       "High View, Low Purchase, High Unique       218\n",
       "High View, Low Purchase, Low Unique        980\n",
       "Low View, High Purchase, High Unique       229\n",
       "Low View, High Purchase, Low Unique        326\n",
       "Low View, Low Purchase, High Unique        190\n",
       "Low View, Low Purchase, Low Unique       50569\n",
       "Name: item_type, dtype: int64"
      ]
     },
     "execution_count": 63,
     "metadata": {},
     "output_type": "execute_result"
    }
   ],
   "source": [
    "temp_3[\"item_type\"].value_counts().sort_index()"
   ]
  },
  {
   "cell_type": "code",
   "execution_count": 234,
   "id": "ba5437b7-5c25-49b5-b830-dfa2f85ca71d",
   "metadata": {},
   "outputs": [],
   "source": [
    "temp_3[\"add_to_cart\"] = temp_3[\"num_cart\"] / temp_3[\"num_view\"]"
   ]
  },
  {
   "cell_type": "code",
   "execution_count": 64,
   "id": "ac445a1b-8bb6-41c5-be2f-1f1d58ba1a63",
   "metadata": {},
   "outputs": [],
   "source": [
    "# Build ML Model using Turicreate by Apple"
   ]
  },
  {
   "cell_type": "code",
   "execution_count": 77,
   "id": "51e00ffa-33b2-4d42-9f03-9a056a6d9971",
   "metadata": {},
   "outputs": [],
   "source": [
    "add_to_cart = df[df.event_type == \"cart\"].reset_index(drop=True)"
   ]
  },
  {
   "cell_type": "code",
   "execution_count": 82,
   "id": "d5a2c03e-860d-48c5-bfa6-5072bc26acf1",
   "metadata": {},
   "outputs": [],
   "source": [
    "cart_df = (\n",
    "    add_to_cart.groupby(by=[\"user_id\", \"product_id\"])\n",
    "    .size()\n",
    "    .to_frame(\"num_purchase\")\n",
    "    .reset_index()\n",
    ")"
   ]
  },
  {
   "cell_type": "code",
   "execution_count": 98,
   "id": "ae173037-0c7a-4aad-b529-095e8b435d2d",
   "metadata": {},
   "outputs": [],
   "source": [
    "user_list = cached_3[\n",
    "    (cached_3.user_type != \"Low View, Low Purchase, Low Unique\")\n",
    "    & (cached_3.user_type != \"High View, High Purchase, High Unique \")\n",
    "][\"user_id\"].tolist()"
   ]
  },
  {
   "cell_type": "code",
   "execution_count": 100,
   "id": "c22e0fe7-deda-45c9-92e1-1b1fb9ad4621",
   "metadata": {},
   "outputs": [],
   "source": [
    "cart_df = cart_df[cart_df.user_id.isin(user_list)].reset_index(drop=True)"
   ]
  },
  {
   "cell_type": "code",
   "execution_count": 101,
   "id": "ec92a92b-7023-4108-a7de-2211f4b3df09",
   "metadata": {},
   "outputs": [],
   "source": [
    "sparse_data = pd.crosstab(\n",
    "    cart_df[\"user_id\"],\n",
    "    cart_df[\"product_id\"],\n",
    "    values=cart_df[\"num_purchase\"],\n",
    "    aggfunc=\"sum\",\n",
    ").fillna(0)"
   ]
  },
  {
   "cell_type": "code",
   "execution_count": 103,
   "id": "8b48b3f3-74a2-4b21-aa38-6324e90f8a81",
   "metadata": {},
   "outputs": [],
   "source": [
    "sparse_csr = csr_matrix(sparse_data.values)"
   ]
  },
  {
   "cell_type": "code",
   "execution_count": 121,
   "id": "5f4d5286-132e-4393-85a8-21258e3b0f20",
   "metadata": {},
   "outputs": [
    {
     "name": "stderr",
     "output_type": "stream",
     "text": [
      "100%|██████████| 15/15 [00:00<00:00, 1340.23it/s]\n",
      "100%|██████████| 880/880 [00:00<00:00, 91110.75it/s]"
     ]
    },
    {
     "name": "stdout",
     "output_type": "stream",
     "text": [
      "Precision at K: 0.03488372093023256\n"
     ]
    },
    {
     "name": "stderr",
     "output_type": "stream",
     "text": [
      "\n"
     ]
    }
   ],
   "source": [
    "train_data, test_data = implicit_train_test_split(sparse_csr, train_percentage=0.8)\n",
    "model = implicit.als.AlternatingLeastSquares(\n",
    "    factors=20, regularization=0.15, iterations=15\n",
    ")\n",
    "model.fit(train_data)\n",
    "\n",
    "precision = precision_at_k(model, train_data.T, test_data.T, K=100)\n",
    "print(f\"Precision at K: {precision}\")"
   ]
  },
  {
   "cell_type": "code",
   "execution_count": 207,
   "id": "e94d0d86-7836-4429-aefa-6513f17cdd5c",
   "metadata": {},
   "outputs": [],
   "source": [
    "def popular_item_model(user_item_matrix, K):\n",
    "    popular_items = (\n",
    "        sparse_data.sum(axis=0)\n",
    "        .to_frame(\"num_purchase\")\n",
    "        .reset_index()\n",
    "        .sort_values(by=[\"num_purchase\"], ascending=False)\n",
    "    ).index.tolist()\n",
    "    return [list(popular_items[:K]) for _ in range(user_item_matrix.shape[0])]\n",
    "\n",
    "\n",
    "def calculate_precision(predicted, actual):\n",
    "    true_positives = sum(item in actual for item in predicted)\n",
    "    false_positives = sum(item not in actual for item in predicted)\n",
    "\n",
    "    if true_positives + false_positives == 0:\n",
    "        return 0.0  # Handle the case where there are no positive predictions\n",
    "\n",
    "    precision = true_positives / (true_positives + false_positives)\n",
    "    return precision"
   ]
  },
  {
   "cell_type": "code",
   "execution_count": 232,
   "id": "47afab8f-99e1-4d21-b040-1a4273f4fc25",
   "metadata": {},
   "outputs": [
    {
     "name": "stdout",
     "output_type": "stream",
     "text": [
      "Precision at K for ALS Implicit Model: 0.001098003629764066\n",
      "Precision at K for Popular Item Model: 0.0\n"
     ]
    }
   ],
   "source": [
    "# Get the top K recommended items for each user using the ALS model\n",
    "user_top_k_items_als = [\n",
    "    loaded_model.recommend(\n",
    "        user, train_data[user], N=100, filter_already_liked_items=True\n",
    "    )\n",
    "    for user in range(train_data.shape[0])\n",
    "]\n",
    "\n",
    "user_top_k_items_als = [x[0].tolist() for x in user_top_k_items_als]\n",
    "\n",
    "\n",
    "user_top_k_items_popular = popular_item_model(sparse_data, K=100)\n",
    "\n",
    "precision_als = [\n",
    "    calculate_precision(user_top_k_items_als[x], test_data[x].toarray()[0])\n",
    "    for x in range(train_data.shape[0])\n",
    "    if test_data[x].toarray()[0].sum() > 0\n",
    "]\n",
    "\n",
    "precision_popular_items = [\n",
    "    calculate_precision(user_top_k_items_popular[x], test_data[x].toarray()[0])\n",
    "    for x in range(train_data.shape[0])\n",
    "    if test_data[x].toarray()[0].sum() > 0\n",
    "]\n",
    "\n",
    "\n",
    "print(\n",
    "    f\"Precision at K for ALS Implicit Model: {sum(precision_als) / len(precision_als)}\"\n",
    ")\n",
    "print(\n",
    "    f\"Precision at K for Popular Item Model: {sum(precision_popular_items) / len(precision_popular_items)}\"\n",
    ")"
   ]
  },
  {
   "cell_type": "code",
   "execution_count": 219,
   "id": "223bb46e-ae27-42a1-84ec-fe013676ba6b",
   "metadata": {},
   "outputs": [
    {
     "name": "stderr",
     "output_type": "stream",
     "text": [
      "/opt/conda/envs/songsure_v1/lib/python3.10/site-packages/implicit/cpu/als.py:95: RuntimeWarning: OpenBLAS is configured to use 8 threads. It is highly recommended to disable its internal threadpool by setting the environment variable 'OPENBLAS_NUM_THREADS=1' or by calling 'threadpoolctl.threadpool_limits(1, \"blas\")'. Having OpenBLAS use a threadpool can lead to severe performance issues here.\n",
      "  check_blas_config()\n"
     ]
    }
   ],
   "source": [
    "model.save(\"recommender_v1.model\")"
   ]
  },
  {
   "cell_type": "code",
   "execution_count": 231,
   "id": "183ec99f-e5dc-4d59-9af3-d9202a5f18b7",
   "metadata": {},
   "outputs": [],
   "source": [
    "loaded_model = implicit.als.AlternatingLeastSquares().load(\"recommender_v1.model.npz\")"
   ]
  },
  {
   "cell_type": "code",
   "execution_count": 243,
   "id": "3af0709c-0078-46be-b8b2-4f7ac1a0b4e0",
   "metadata": {},
   "outputs": [],
   "source": [
    "high_selling_items = (\n",
    "    temp_3[temp_3.item_type == \"High View, High Purchase, High Unique\"]\n",
    "    .sort_values(by=[\"add_to_cart\"], ascending=False)\n",
    "    .reset_index(drop=True)\n",
    ")\n",
    "high_selling_items.to_parquet(\"high_selling_items.parquet\", index=False)"
   ]
  },
  {
   "cell_type": "code",
   "execution_count": 247,
   "id": "05617f3e-1912-4036-80ef-586ef9d52d54",
   "metadata": {},
   "outputs": [],
   "source": [
    "# Low View, High Purchase, High Unique\n",
    "\n",
    "undersale_items = (\n",
    "    temp_3[temp_3.item_type == \"Low View, High Purchase, High Unique\"]\n",
    "    .sort_values(by=[\"add_to_cart\"], ascending=False)\n",
    "    .reset_index(drop=True)\n",
    ")\n",
    "undersale_items.to_parquet(\"undersale_items.parquet\", index=False)"
   ]
  },
  {
   "cell_type": "code",
   "execution_count": 258,
   "id": "193e70bb-b911-43d3-92a9-c9b53f97665a",
   "metadata": {},
   "outputs": [],
   "source": [
    "import pickle\n",
    "\n",
    "user_to_id = {x: y for (y, x) in enumerate(sparse_data.index.tolist())}\n",
    "user_to_type = {x: y for (x, y) in zip(cached_3[\"user_id\"], cached_3[\"user_type\"])}\n",
    "id_to_item = {x: y for (x, y) in enumerate(sparse_data.columns.tolist())}\n",
    "\n",
    "\n",
    "with open(\"user_to_id.pickle\", \"wb\") as handle:\n",
    "    pickle.dump(user_to_id, handle, protocol=pickle.HIGHEST_PROTOCOL)\n",
    "\n",
    "with open(\"user_to_type.pickle\", \"wb\") as handle:\n",
    "    pickle.dump(user_to_type, handle, protocol=pickle.HIGHEST_PROTOCOL)\n",
    "\n",
    "with open(\"id_to_item.pickle\", \"wb\") as handle:\n",
    "    pickle.dump(id_to_item, handle, protocol=pickle.HIGHEST_PROTOCOL)"
   ]
  },
  {
   "cell_type": "code",
   "execution_count": null,
   "id": "feefde5e-74a7-41de-a5ee-8d02f2c01dad",
   "metadata": {},
   "outputs": [],
   "source": [
    "np.save(\"user_items_matrix.npy\", sparse_data.values)"
   ]
  },
  {
   "cell_type": "code",
   "execution_count": null,
   "id": "f9603006-e6ca-40d6-a56f-5ead717abb54",
   "metadata": {},
   "outputs": [],
   "source": [
    "# Try Service"
   ]
  },
  {
   "cell_type": "code",
   "execution_count": 329,
   "id": "f878e188-1486-461d-b911-22f9700b9be8",
   "metadata": {},
   "outputs": [],
   "source": [
    "import requests\n",
    "\n",
    "api_url = \"http://127.0.0.1:5000/recommend_items\"\n",
    "\n",
    "data = {\"user_id\": 1515915625385482819}\n",
    "\n",
    "response = requests.post(api_url, json=data)"
   ]
  },
  {
   "cell_type": "code",
   "execution_count": null,
   "id": "7d955282-1387-4514-8929-2421a3043050",
   "metadata": {},
   "outputs": [],
   "source": [
    "cached_3[cached_3.user_type == \"High View, High Purchase, Low Unique\"]"
   ]
  },
  {
   "cell_type": "code",
   "execution_count": null,
   "id": "44dd4335-bced-4ffd-9704-2121e7d9ca17",
   "metadata": {},
   "outputs": [],
   "source": []
  }
 ],
 "metadata": {
  "environment": {
   "kernel": "songsure_v1",
   "name": "tf2-gpu.2-11.m111",
   "type": "gcloud",
   "uri": "gcr.io/deeplearning-platform-release/tf2-gpu.2-11:m111"
  },
  "kernelspec": {
   "display_name": "Python (Songsure_v1)",
   "language": "python",
   "name": "songsure_v1"
  },
  "language_info": {
   "codemirror_mode": {
    "name": "ipython",
    "version": 3
   },
   "file_extension": ".py",
   "mimetype": "text/x-python",
   "name": "python",
   "nbconvert_exporter": "python",
   "pygments_lexer": "ipython3",
   "version": "3.10.12"
  }
 },
 "nbformat": 4,
 "nbformat_minor": 5
}
